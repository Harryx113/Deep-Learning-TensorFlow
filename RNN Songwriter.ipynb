{
 "cells": [
  {
   "cell_type": "markdown",
   "metadata": {},
   "source": [
    "# Train an RNN to Write Songs Like Chris Martin  \n",
    "  \n",
    "### data source: https://www.kaggle.com/kpriyanshu256/coldplay-lyrics"
   ]
  },
  {
   "cell_type": "code",
   "execution_count": 1,
   "metadata": {},
   "outputs": [],
   "source": [
    "from tensorflow.keras.preprocessing.sequence import pad_sequences\n",
    "from tensorflow.keras.layers import Embedding, LSTM, Dense, Dropout, Bidirectional\n",
    "from tensorflow.keras.preprocessing.text import Tokenizer\n",
    "from tensorflow.keras.models import Sequential\n",
    "from tensorflow.keras.optimizers import Adam\n",
    "from tensorflow.keras import regularizers\n",
    "import tensorflow.keras.utils as ku \n",
    "import numpy as np "
   ]
  },
  {
   "cell_type": "code",
   "execution_count": 25,
   "metadata": {},
   "outputs": [],
   "source": [
    "data = open('coldplay_lyrics.txt').read()\n",
    "\n",
    "corpus = data.lower().splitlines()\n",
    "corpus = [n.replace(',','') for n in corpus if len(n) > 0]\n",
    "\n",
    "tokenizer = Tokenizer()\n",
    "tokenizer.fit_on_texts(corpus)\n",
    "\n",
    "total_words = len(tokenizer.word_index) + 1\n",
    "\n",
    "# create input sequences using list of tokens\n",
    "input_sequences = []\n",
    "for line in corpus:\n",
    "    token_list = tokenizer.texts_to_sequences([line])[0]\n",
    "    for i in range(1, len(token_list)):\n",
    "        n_gram_sequence = token_list[:i+1]\n",
    "        input_sequences.append(n_gram_sequence)\n",
    "\n",
    "\n",
    "# pad sequences \n",
    "max_sequence_len = max([len(x) for x in input_sequences])\n",
    "input_sequences = np.array(pad_sequences(input_sequences, maxlen=max_sequence_len, padding='pre'))\n",
    "\n",
    "# create predictors and label\n",
    "predictors, label = input_sequences[:,:-1],input_sequences[:,-1]\n",
    "\n",
    "label = ku.to_categorical(label, num_classes=total_words)"
   ]
  },
  {
   "cell_type": "code",
   "execution_count": 26,
   "metadata": {},
   "outputs": [
    {
     "name": "stdout",
     "output_type": "stream",
     "text": [
      "Model: \"sequential\"\n",
      "_________________________________________________________________\n",
      "Layer (type)                 Output Shape              Param #   \n",
      "=================================================================\n",
      "embedding (Embedding)        (None, 22, 100)           217300    \n",
      "_________________________________________________________________\n",
      "bidirectional (Bidirectional (None, 22, 300)           301200    \n",
      "_________________________________________________________________\n",
      "dropout (Dropout)            (None, 22, 300)           0         \n",
      "_________________________________________________________________\n",
      "unified_lstm_1 (UnifiedLSTM) (None, 100)               160400    \n",
      "_________________________________________________________________\n",
      "dense (Dense)                (None, 1086)              109686    \n",
      "_________________________________________________________________\n",
      "dense_1 (Dense)              (None, 2173)              2362051   \n",
      "=================================================================\n",
      "Total params: 3,150,637\n",
      "Trainable params: 3,150,637\n",
      "Non-trainable params: 0\n",
      "_________________________________________________________________\n",
      "None\n"
     ]
    }
   ],
   "source": [
    "model = Sequential()\n",
    "model.add(Embedding(total_words, 100, input_length=max_sequence_len-1))\n",
    "model.add(Bidirectional(LSTM(150, return_sequences = True)))\n",
    "model.add(Dropout(0.2))\n",
    "model.add(LSTM(100))\n",
    "model.add(Dense(total_words/2, activation='relu', kernel_regularizer=regularizers.l2(0.01)))\n",
    "model.add(Dense(total_words, activation='softmax'))\n",
    "model.compile(loss='categorical_crossentropy', optimizer='adam', metrics=['accuracy'])\n",
    "print(model.summary())"
   ]
  },
  {
   "cell_type": "markdown",
   "metadata": {},
   "source": [
    "Due to the size of the data, let's train for 10 epochs first."
   ]
  },
  {
   "cell_type": "code",
   "execution_count": 28,
   "metadata": {},
   "outputs": [
    {
     "name": "stdout",
     "output_type": "stream",
     "text": [
      "Epoch 1/10\n",
      "21145/21145 [==============================] - 68s 3ms/sample - loss: 5.4085 - accuracy: 0.0550\n",
      "Epoch 2/10\n",
      "21145/21145 [==============================] - 68s 3ms/sample - loss: 5.2599 - accuracy: 0.0654\n",
      "Epoch 3/10\n",
      "21145/21145 [==============================] - 68s 3ms/sample - loss: 5.1107 - accuracy: 0.0834\n",
      "Epoch 4/10\n",
      "21145/21145 [==============================] - 67s 3ms/sample - loss: 4.9714 - accuracy: 0.1052\n",
      "Epoch 5/10\n",
      "21145/21145 [==============================] - 68s 3ms/sample - loss: 4.8472 - accuracy: 0.1186\n",
      "Epoch 6/10\n",
      "21145/21145 [==============================] - 67s 3ms/sample - loss: 4.7423 - accuracy: 0.1342\n",
      "Epoch 7/10\n",
      "21145/21145 [==============================] - 66s 3ms/sample - loss: 4.6496 - accuracy: 0.1453\n",
      "Epoch 8/10\n",
      "21145/21145 [==============================] - 65s 3ms/sample - loss: 4.5656 - accuracy: 0.1591\n",
      "Epoch 9/10\n",
      "21145/21145 [==============================] - 65s 3ms/sample - loss: 4.5032 - accuracy: 0.1664\n",
      "Epoch 10/10\n",
      "21145/21145 [==============================] - 66s 3ms/sample - loss: 4.4213 - accuracy: 0.1774\n"
     ]
    }
   ],
   "source": [
    "history = model.fit(predictors, label, epochs=10, verbose=1)"
   ]
  },
  {
   "cell_type": "markdown",
   "metadata": {},
   "source": [
    "The accuracy is low, so let's keep training."
   ]
  },
  {
   "cell_type": "code",
   "execution_count": 29,
   "metadata": {},
   "outputs": [
    {
     "name": "stdout",
     "output_type": "stream",
     "text": [
      "Epoch 1/20\n",
      "21145/21145 [==============================] - 64s 3ms/sample - loss: 4.3568 - accuracy: 0.1846\n",
      "Epoch 2/20\n",
      "21145/21145 [==============================] - 65s 3ms/sample - loss: 4.2849 - accuracy: 0.1923\n",
      "Epoch 3/20\n",
      "21145/21145 [==============================] - 66s 3ms/sample - loss: 4.1985 - accuracy: 0.2044\n",
      "Epoch 4/20\n",
      "21145/21145 [==============================] - 66s 3ms/sample - loss: 4.1531 - accuracy: 0.2093\n",
      "Epoch 5/20\n",
      "21145/21145 [==============================] - 66s 3ms/sample - loss: 4.0634 - accuracy: 0.2207\n",
      "Epoch 6/20\n",
      "21145/21145 [==============================] - 66s 3ms/sample - loss: 3.9851 - accuracy: 0.2282\n",
      "Epoch 7/20\n",
      "21145/21145 [==============================] - 65s 3ms/sample - loss: 3.9098 - accuracy: 0.2393\n",
      "Epoch 8/20\n",
      "21145/21145 [==============================] - 65s 3ms/sample - loss: 3.8454 - accuracy: 0.2493\n",
      "Epoch 9/20\n",
      "21145/21145 [==============================] - 64s 3ms/sample - loss: 3.7759 - accuracy: 0.2598\n",
      "Epoch 10/20\n",
      "21145/21145 [==============================] - 63s 3ms/sample - loss: 3.7275 - accuracy: 0.2651\n",
      "Epoch 11/20\n",
      "21145/21145 [==============================] - 63s 3ms/sample - loss: 3.6585 - accuracy: 0.2748\n",
      "Epoch 12/20\n",
      "21145/21145 [==============================] - 62s 3ms/sample - loss: 3.5966 - accuracy: 0.2870\n",
      "Epoch 13/20\n",
      "21145/21145 [==============================] - 63s 3ms/sample - loss: 3.5294 - accuracy: 0.2989\n",
      "Epoch 14/20\n",
      "21145/21145 [==============================] - 63s 3ms/sample - loss: 3.4646 - accuracy: 0.3095\n",
      "Epoch 15/20\n",
      "21145/21145 [==============================] - 63s 3ms/sample - loss: 3.4120 - accuracy: 0.3193\n",
      "Epoch 16/20\n",
      "21145/21145 [==============================] - 63s 3ms/sample - loss: 3.3622 - accuracy: 0.3266\n",
      "Epoch 17/20\n",
      "21145/21145 [==============================] - 63s 3ms/sample - loss: 3.2936 - accuracy: 0.3376\n",
      "Epoch 18/20\n",
      "21145/21145 [==============================] - 63s 3ms/sample - loss: 3.2350 - accuracy: 0.3489\n",
      "Epoch 19/20\n",
      "21145/21145 [==============================] - 63s 3ms/sample - loss: 3.1853 - accuracy: 0.3581\n",
      "Epoch 20/20\n",
      "21145/21145 [==============================] - 65s 3ms/sample - loss: 3.1354 - accuracy: 0.3690\n"
     ]
    }
   ],
   "source": [
    "history = model.fit(predictors, label, epochs=20, verbose=1)"
   ]
  },
  {
   "cell_type": "code",
   "execution_count": 32,
   "metadata": {},
   "outputs": [
    {
     "data": {
      "image/png": "[encoded data removed]",
      "text/plain": [
       "<Figure size 432x288 with 1 Axes>"
      ]
     },
     "metadata": {
      "needs_background": "light"
     },
     "output_type": "display_data"
    },
    {
     "data": {
      "image/png": "[encoded data removed]",
      "text/plain": [
       "<Figure size 432x288 with 1 Axes>"
      ]
     },
     "metadata": {
      "needs_background": "light"
     },
     "output_type": "display_data"
    }
   ],
   "source": [
    "import matplotlib.pyplot as plt\n",
    "acc = history.history['accuracy']\n",
    "loss = history.history['loss']\n",
    "\n",
    "epochs = range(len(acc))\n",
    "\n",
    "plt.plot(epochs, acc, 'b', label='Training accuracy')\n",
    "plt.title('Training accuracy')\n",
    "\n",
    "plt.figure()\n",
    "\n",
    "plt.plot(epochs, loss, 'b', label='Training Loss')\n",
    "plt.title('Training loss')\n",
    "plt.legend()\n",
    "\n",
    "plt.show()"
   ]
  },
  {
   "cell_type": "markdown",
   "metadata": {},
   "source": [
    "Let's try to use the famous song Yellow as a starter"
   ]
  },
  {
   "cell_type": "code",
   "execution_count": 33,
   "metadata": {},
   "outputs": [
    {
     "name": "stdout",
     "output_type": "stream",
     "text": [
      "look at the stars i could be worse there change the sun the world in the rain full of dreams is eye in waves when you know is stars hope one fall like stones stones stars one stars light it right to see you close your side saying when message home and i wanted to go and i know what you let you down it right for you down and i know i know i don't understand light i don't understand have this place and i light for you come back into the sun comes down it out for you on my heart with\n"
     ]
    }
   ],
   "source": [
    "seed_text = \"look at the stars\"\n",
    "next_words = 100\n",
    "  \n",
    "for _ in range(next_words):\n",
    "    token_list = tokenizer.texts_to_sequences([seed_text])[0]\n",
    "    token_list = pad_sequences([token_list], maxlen=max_sequence_len-1, padding='pre')\n",
    "    predicted = model.predict_classes(token_list, verbose=0)\n",
    "    output_word = \"\"\n",
    "    for word, index in tokenizer.word_index.items():\n",
    "        if index == predicted:\n",
    "            output_word = word\n",
    "            break\n",
    "    seed_text += \" \" + output_word\n",
    "print(seed_text)"
   ]
  },
  {
   "cell_type": "markdown",
   "metadata": {},
   "source": [
    "Syntax and grammar are not great, but we do see some interesting phrases thanks to word embeddings. \"The world in the rain\", \"full of freams\", \"fall like stones\"."
   ]
  },
  {
   "cell_type": "code",
   "execution_count": 34,
   "metadata": {},
   "outputs": [
    {
     "name": "stdout",
     "output_type": "stream",
     "text": [
      "nobody said it was easy to be saved to keep it away from me drink from me there by the bubble side army of sound sound you don't start no oh oh oh oh oh oh oh oh oh oh oh oh oh oh oh oh oh oh oh oh oh oh oh oh oh oh oh oh oh oh oh oh oh oh oh oh oh oh oh oh oh oh oh oh oh oh oh oh oh oh oh oh oh oh oh oh oh oh oh oh oh oh oh oh oh oh oh oh oh oh oh oh oh oh oh\n"
     ]
    }
   ],
   "source": [
    "seed_text = \"nobody said it was easy\"\n",
    "next_words = 100\n",
    "  \n",
    "for _ in range(next_words):\n",
    "    token_list = tokenizer.texts_to_sequences([seed_text])[0]\n",
    "    token_list = pad_sequences([token_list], maxlen=max_sequence_len-1, padding='pre')\n",
    "    predicted = model.predict_classes(token_list, verbose=0)\n",
    "    output_word = \"\"\n",
    "    for word, index in tokenizer.word_index.items():\n",
    "        if index == predicted:\n",
    "            output_word = word\n",
    "            break\n",
    "    seed_text += \" \" + output_word\n",
    "print(seed_text)"
   ]
  },
  {
   "cell_type": "markdown",
   "metadata": {},
   "source": [
    "This one is fun. Easy song!"
   ]
  },
  {
   "cell_type": "markdown",
   "metadata": {},
   "source": [
    "Now, instead of feeding a whole line, we can give it a word and let it run with it."
   ]
  },
  {
   "cell_type": "code",
   "execution_count": 35,
   "metadata": {},
   "outputs": [
    {
     "name": "stdout",
     "output_type": "stream",
     "text": [
      "you don't know what it feels like the sun and flow my head starts to ring fix you down to me and i know and i know what you ever go out for princess light it where do you go was to be lonely like a beautiful world i could be a whisper a whisper a whisper a whisper a whisper a whisper a whisper a whisper a whisper a whisper a whisper a whisper a whisper a whisper a whisper a whisper a whisper a whisper a whisper a whisper a whisper a whisper a whisper a whisper a whisper\n"
     ]
    }
   ],
   "source": [
    "seed_text = \"you\"\n",
    "next_words = 100\n",
    "  \n",
    "for _ in range(next_words):\n",
    "    token_list = tokenizer.texts_to_sequences([seed_text])[0]\n",
    "    token_list = pad_sequences([token_list], maxlen=max_sequence_len-1, padding='pre')\n",
    "    predicted = model.predict_classes(token_list, verbose=0)\n",
    "    output_word = \"\"\n",
    "    for word, index in tokenizer.word_index.items():\n",
    "        if index == predicted:\n",
    "            output_word = word\n",
    "            break\n",
    "    seed_text += \" \" + output_word\n",
    "print(seed_text)"
   ]
  },
  {
   "cell_type": "code",
   "execution_count": 36,
   "metadata": {},
   "outputs": [
    {
     "name": "stdout",
     "output_type": "stream",
     "text": [
      "love you let me go to be patient for me a beautiful world i could be saved to see you down into blood to start light light it start through you down me again it upon me died are cold side where the world a bubble became coat in waves ah ah oh oh light you love me start rush la la la la la la la la la la la la la la la la la la la la la la la la la la la la la la la la la la la la la la la la la\n"
     ]
    }
   ],
   "source": [
    "seed_text = \"love\"\n",
    "next_words = 100\n",
    "  \n",
    "for _ in range(next_words):\n",
    "    token_list = tokenizer.texts_to_sequences([seed_text])[0]\n",
    "    token_list = pad_sequences([token_list], maxlen=max_sequence_len-1, padding='pre')\n",
    "    predicted = model.predict_classes(token_list, verbose=0)\n",
    "    output_word = \"\"\n",
    "    for word, index in tokenizer.word_index.items():\n",
    "        if index == predicted:\n",
    "            output_word = word\n",
    "            break\n",
    "    seed_text += \" \" + output_word\n",
    "print(seed_text)"
   ]
  },
  {
   "cell_type": "code",
   "execution_count": null,
   "metadata": {},
   "outputs": [],
   "source": []
  }
 ],
 "metadata": {
  "kernelspec": {
   "display_name": "Python 3",
   "language": "python",
   "name": "python3"
  },
  "language_info": {
   "codemirror_mode": {
    "name": "ipython",
    "version": 3
   },
   "file_extension": ".py",
   "mimetype": "text/x-python",
   "name": "python",
   "nbconvert_exporter": "python",
   "pygments_lexer": "ipython3",
   "version": "3.7.3"
  }
 },
 "nbformat": 4,
 "nbformat_minor": 4
}
